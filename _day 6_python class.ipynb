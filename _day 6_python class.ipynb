{
 "cells": [
  {
   "cell_type": "code",
   "execution_count": null,
   "id": "05f0b8c1",
   "metadata": {},
   "outputs": [],
   "source": [
    "introduction to looping statement:"
   ]
  },
  {
   "cell_type": "code",
   "execution_count": null,
   "id": "de46bf6b",
   "metadata": {},
   "outputs": [],
   "source": [
    "for loop :"
   ]
  },
  {
   "cell_type": "code",
   "execution_count": null,
   "id": "00f8bfec",
   "metadata": {},
   "outputs": [],
   "source": []
  },
  {
   "cell_type": "code",
   "execution_count": 1,
   "id": "8646e4db",
   "metadata": {},
   "outputs": [],
   "source": [
    "students = ['rani','naveen','ramya','saba','ayesha','hameed']"
   ]
  },
  {
   "cell_type": "code",
   "execution_count": 2,
   "id": "9841a305",
   "metadata": {},
   "outputs": [
    {
     "name": "stdout",
     "output_type": "stream",
     "text": [
      "['rani', 'naveen', 'ramya', 'saba', 'ayesha', 'hameed']\n"
     ]
    }
   ],
   "source": [
    "print(students)"
   ]
  },
  {
   "cell_type": "code",
   "execution_count": 3,
   "id": "7db9c680",
   "metadata": {},
   "outputs": [
    {
     "data": {
      "text/plain": [
       "list"
      ]
     },
     "execution_count": 3,
     "metadata": {},
     "output_type": "execute_result"
    }
   ],
   "source": [
    "type(students)"
   ]
  },
  {
   "cell_type": "code",
   "execution_count": 4,
   "id": "925004c4",
   "metadata": {},
   "outputs": [
    {
     "name": "stdout",
     "output_type": "stream",
     "text": [
      "keep up the good work,Rani\n"
     ]
    }
   ],
   "source": [
    "print(f\"keep up the good work,{students[0].title()}\")"
   ]
  },
  {
   "cell_type": "code",
   "execution_count": 5,
   "id": "cdc36ce7",
   "metadata": {},
   "outputs": [
    {
     "name": "stdout",
     "output_type": "stream",
     "text": [
      "keep up the good work,Saba\n"
     ]
    }
   ],
   "source": [
    "print(f\"keep up the good work,{students[3].title()}\")"
   ]
  },
  {
   "cell_type": "code",
   "execution_count": null,
   "id": "131117ba",
   "metadata": {},
   "outputs": [],
   "source": [
    "#General syntax of for loop:"
   ]
  },
  {
   "cell_type": "code",
   "execution_count": null,
   "id": "3f70b860",
   "metadata": {},
   "outputs": [],
   "source": [
    "for tempvar in mainvar:\n",
    "    print (tempvar)"
   ]
  },
  {
   "cell_type": "code",
   "execution_count": 6,
   "id": "b3a511bd",
   "metadata": {},
   "outputs": [
    {
     "name": "stdout",
     "output_type": "stream",
     "text": [
      "keep up the good work,rani\n",
      "keep up the good work,naveen\n",
      "keep up the good work,ramya\n",
      "keep up the good work,saba\n",
      "keep up the good work,ayesha\n",
      "keep up the good work,hameed\n"
     ]
    }
   ],
   "source": [
    "for x in students:\n",
    "    print(f\"keep up the good work,{x}\")"
   ]
  },
  {
   "cell_type": "code",
   "execution_count": 7,
   "id": "923f1676",
   "metadata": {},
   "outputs": [
    {
     "name": "stdout",
     "output_type": "stream",
     "text": [
      "rani\n",
      "naveen\n",
      "ramya\n",
      "saba\n",
      "ayesha\n",
      "hameed\n"
     ]
    }
   ],
   "source": [
    "for a in students:\n",
    "    print(a)"
   ]
  },
  {
   "cell_type": "code",
   "execution_count": 8,
   "id": "15ac5ecd",
   "metadata": {},
   "outputs": [
    {
     "name": "stdout",
     "output_type": "stream",
     "text": [
      "keep up the good work,rani\n",
      "I will be looking forward to receive your Github urls for review,rani\n",
      "keep up the good work,naveen\n",
      "I will be looking forward to receive your Github urls for review,naveen\n",
      "keep up the good work,ramya\n",
      "I will be looking forward to receive your Github urls for review,ramya\n",
      "keep up the good work,saba\n",
      "I will be looking forward to receive your Github urls for review,saba\n",
      "keep up the good work,ayesha\n",
      "I will be looking forward to receive your Github urls for review,ayesha\n",
      "keep up the good work,hameed\n",
      "I will be looking forward to receive your Github urls for review,hameed\n"
     ]
    }
   ],
   "source": [
    "for x in students:\n",
    "    \n",
    "    print(f\"keep up the good work,{x}\")\n",
    "    print(f\"I will be looking forward to receive your Github urls for review,{x}\")"
   ]
  },
  {
   "cell_type": "code",
   "execution_count": 9,
   "id": "875fc36d",
   "metadata": {},
   "outputs": [
    {
     "name": "stdout",
     "output_type": "stream",
     "text": [
      "keep up the good work,rani\n",
      "I will be looking forward to receive your Github urls for review,rani\n",
      "\n",
      "keep up the good work,naveen\n",
      "I will be looking forward to receive your Github urls for review,naveen\n",
      "\n",
      "keep up the good work,ramya\n",
      "I will be looking forward to receive your Github urls for review,ramya\n",
      "\n",
      "keep up the good work,saba\n",
      "I will be looking forward to receive your Github urls for review,saba\n",
      "\n",
      "keep up the good work,ayesha\n",
      "I will be looking forward to receive your Github urls for review,ayesha\n",
      "\n",
      "keep up the good work,hameed\n",
      "I will be looking forward to receive your Github urls for review,hameed\n",
      "\n"
     ]
    }
   ],
   "source": [
    "for x in students:\n",
    "    \n",
    "    print(f\"keep up the good work,{x}\")\n",
    "    print(f\"I will be looking forward to receive your Github urls for review,{x}\\n\")"
   ]
  },
  {
   "cell_type": "code",
   "execution_count": 10,
   "id": "94d39645",
   "metadata": {},
   "outputs": [
    {
     "ename": "IndentationError",
     "evalue": "expected an indented block (<ipython-input-10-461cd45bd113>, line 3)",
     "output_type": "error",
     "traceback": [
      "\u001b[1;36m  File \u001b[1;32m\"<ipython-input-10-461cd45bd113>\"\u001b[1;36m, line \u001b[1;32m3\u001b[0m\n\u001b[1;33m    print(f\"keep up the good work,{x}\")\u001b[0m\n\u001b[1;37m    ^\u001b[0m\n\u001b[1;31mIndentationError\u001b[0m\u001b[1;31m:\u001b[0m expected an indented block\n"
     ]
    }
   ],
   "source": [
    "for x in students:\n",
    "    \n",
    "print(f\"keep up the good work,{x}\")\n",
    "print(f\"I will be looking forward to receive your Github urls for review,{x}\")"
   ]
  },
  {
   "cell_type": "code",
   "execution_count": 11,
   "id": "54252ad2",
   "metadata": {},
   "outputs": [
    {
     "name": "stdout",
     "output_type": "stream",
     "text": [
      "rani\n",
      "naveen\n",
      "ramya\n",
      "saba\n",
      "ayesha\n",
      "hameed\n"
     ]
    }
   ],
   "source": [
    "for a in students:\n",
    "    print(a)"
   ]
  },
  {
   "cell_type": "code",
   "execution_count": null,
   "id": "f06f0903",
   "metadata": {},
   "outputs": [],
   "source": [
    "introduction to tupl datatype:"
   ]
  },
  {
   "cell_type": "code",
   "execution_count": 13,
   "id": "3570cd8c",
   "metadata": {},
   "outputs": [],
   "source": [
    "dimensions = (200,50)"
   ]
  },
  {
   "cell_type": "code",
   "execution_count": 14,
   "id": "5ebf7586",
   "metadata": {},
   "outputs": [
    {
     "name": "stdout",
     "output_type": "stream",
     "text": [
      "(200, 50)\n"
     ]
    }
   ],
   "source": [
    "print(dimensions)"
   ]
  },
  {
   "cell_type": "code",
   "execution_count": 15,
   "id": "4cff3efa",
   "metadata": {},
   "outputs": [
    {
     "data": {
      "text/plain": [
       "tuple"
      ]
     },
     "execution_count": 15,
     "metadata": {},
     "output_type": "execute_result"
    }
   ],
   "source": [
    "type(dimensions)"
   ]
  },
  {
   "cell_type": "code",
   "execution_count": 16,
   "id": "976e8527",
   "metadata": {},
   "outputs": [
    {
     "ename": "TypeError",
     "evalue": "'tuple' object does not support item assignment",
     "output_type": "error",
     "traceback": [
      "\u001b[1;31m---------------------------------------------------------------------------\u001b[0m",
      "\u001b[1;31mTypeError\u001b[0m                                 Traceback (most recent call last)",
      "\u001b[1;32m<ipython-input-16-00271e61a311>\u001b[0m in \u001b[0;36m<module>\u001b[1;34m\u001b[0m\n\u001b[1;32m----> 1\u001b[1;33m \u001b[0mdimensions\u001b[0m\u001b[1;33m[\u001b[0m\u001b[1;36m0\u001b[0m\u001b[1;33m]\u001b[0m \u001b[1;33m=\u001b[0m \u001b[1;36m250\u001b[0m\u001b[1;33m\u001b[0m\u001b[1;33m\u001b[0m\u001b[0m\n\u001b[0m",
      "\u001b[1;31mTypeError\u001b[0m: 'tuple' object does not support item assignment"
     ]
    }
   ],
   "source": [
    "dimensions[0] = 250"
   ]
  },
  {
   "cell_type": "code",
   "execution_count": 17,
   "id": "44b70a74",
   "metadata": {},
   "outputs": [
    {
     "name": "stdout",
     "output_type": "stream",
     "text": [
      "200\n"
     ]
    }
   ],
   "source": [
    "print(dimensions[0])"
   ]
  },
  {
   "cell_type": "code",
   "execution_count": 18,
   "id": "9246df38",
   "metadata": {},
   "outputs": [
    {
     "name": "stdout",
     "output_type": "stream",
     "text": [
      "50\n"
     ]
    }
   ],
   "source": [
    "print(dimensions[1])"
   ]
  },
  {
   "cell_type": "code",
   "execution_count": 19,
   "id": "64007548",
   "metadata": {},
   "outputs": [
    {
     "name": "stdout",
     "output_type": "stream",
     "text": [
      "200\n",
      "50\n"
     ]
    }
   ],
   "source": [
    "for y in dimensions:\n",
    "    print(y)"
   ]
  },
  {
   "cell_type": "code",
   "execution_count": null,
   "id": "bad6f427",
   "metadata": {},
   "outputs": [],
   "source": []
  },
  {
   "cell_type": "code",
   "execution_count": null,
   "id": "3e996ced",
   "metadata": {},
   "outputs": [],
   "source": []
  }
 ],
 "metadata": {
  "kernelspec": {
   "display_name": "Python 3",
   "language": "python",
   "name": "python3"
  },
  "language_info": {
   "codemirror_mode": {
    "name": "ipython",
    "version": 3
   },
   "file_extension": ".py",
   "mimetype": "text/x-python",
   "name": "python",
   "nbconvert_exporter": "python",
   "pygments_lexer": "ipython3",
   "version": "3.8.8"
  }
 },
 "nbformat": 4,
 "nbformat_minor": 5
}
